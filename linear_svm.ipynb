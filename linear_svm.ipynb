{
 "cells": [
  {
   "cell_type": "code",
   "execution_count": 3,
   "metadata": {},
   "outputs": [],
   "source": [
    "import pandas as pd\n",
    "import seaborn as sns\n",
    "import sklearn\n",
    "from sklearn import svm\n",
    "import matplotlib.pyplot as plt\n",
    "import numpy as np"
   ]
  },
  {
   "cell_type": "code",
   "execution_count": 4,
   "metadata": {},
   "outputs": [
    {
     "data": {
      "text/html": [
       "<div>\n",
       "<style scoped>\n",
       "    .dataframe tbody tr th:only-of-type {\n",
       "        vertical-align: middle;\n",
       "    }\n",
       "\n",
       "    .dataframe tbody tr th {\n",
       "        vertical-align: top;\n",
       "    }\n",
       "\n",
       "    .dataframe thead th {\n",
       "        text-align: right;\n",
       "    }\n",
       "</style>\n",
       "<table border=\"1\" class=\"dataframe\">\n",
       "  <thead>\n",
       "    <tr style=\"text-align: right;\">\n",
       "      <th></th>\n",
       "      <th>sepal_length</th>\n",
       "      <th>sepal_width</th>\n",
       "      <th>petal_length</th>\n",
       "      <th>petal_width</th>\n",
       "      <th>species</th>\n",
       "    </tr>\n",
       "  </thead>\n",
       "  <tbody>\n",
       "    <tr>\n",
       "      <th>0</th>\n",
       "      <td>5.1</td>\n",
       "      <td>3.5</td>\n",
       "      <td>1.4</td>\n",
       "      <td>0.2</td>\n",
       "      <td>setosa</td>\n",
       "    </tr>\n",
       "    <tr>\n",
       "      <th>1</th>\n",
       "      <td>4.9</td>\n",
       "      <td>3.0</td>\n",
       "      <td>1.4</td>\n",
       "      <td>0.2</td>\n",
       "      <td>setosa</td>\n",
       "    </tr>\n",
       "    <tr>\n",
       "      <th>2</th>\n",
       "      <td>4.7</td>\n",
       "      <td>3.2</td>\n",
       "      <td>1.3</td>\n",
       "      <td>0.2</td>\n",
       "      <td>setosa</td>\n",
       "    </tr>\n",
       "    <tr>\n",
       "      <th>3</th>\n",
       "      <td>4.6</td>\n",
       "      <td>3.1</td>\n",
       "      <td>1.5</td>\n",
       "      <td>0.2</td>\n",
       "      <td>setosa</td>\n",
       "    </tr>\n",
       "    <tr>\n",
       "      <th>4</th>\n",
       "      <td>5.0</td>\n",
       "      <td>3.6</td>\n",
       "      <td>1.4</td>\n",
       "      <td>0.2</td>\n",
       "      <td>setosa</td>\n",
       "    </tr>\n",
       "  </tbody>\n",
       "</table>\n",
       "</div>"
      ],
      "text/plain": [
       "   sepal_length  sepal_width  petal_length  petal_width species\n",
       "0           5.1          3.5           1.4          0.2  setosa\n",
       "1           4.9          3.0           1.4          0.2  setosa\n",
       "2           4.7          3.2           1.3          0.2  setosa\n",
       "3           4.6          3.1           1.5          0.2  setosa\n",
       "4           5.0          3.6           1.4          0.2  setosa"
      ]
     },
     "execution_count": 4,
     "metadata": {},
     "output_type": "execute_result"
    }
   ],
   "source": [
    "df=sns.load_dataset('iris')\n",
    "df.head()"
   ]
  },
  {
   "cell_type": "code",
   "execution_count": 5,
   "metadata": {},
   "outputs": [],
   "source": [
    "col=['petal_length','petal_width','species']"
   ]
  },
  {
   "cell_type": "code",
   "execution_count": 6,
   "metadata": {},
   "outputs": [
    {
     "data": {
      "text/html": [
       "<div>\n",
       "<style scoped>\n",
       "    .dataframe tbody tr th:only-of-type {\n",
       "        vertical-align: middle;\n",
       "    }\n",
       "\n",
       "    .dataframe tbody tr th {\n",
       "        vertical-align: top;\n",
       "    }\n",
       "\n",
       "    .dataframe thead th {\n",
       "        text-align: right;\n",
       "    }\n",
       "</style>\n",
       "<table border=\"1\" class=\"dataframe\">\n",
       "  <thead>\n",
       "    <tr style=\"text-align: right;\">\n",
       "      <th></th>\n",
       "      <th>petal_length</th>\n",
       "      <th>petal_width</th>\n",
       "      <th>species</th>\n",
       "    </tr>\n",
       "  </thead>\n",
       "  <tbody>\n",
       "    <tr>\n",
       "      <th>0</th>\n",
       "      <td>1.4</td>\n",
       "      <td>0.2</td>\n",
       "      <td>setosa</td>\n",
       "    </tr>\n",
       "    <tr>\n",
       "      <th>1</th>\n",
       "      <td>1.4</td>\n",
       "      <td>0.2</td>\n",
       "      <td>setosa</td>\n",
       "    </tr>\n",
       "    <tr>\n",
       "      <th>2</th>\n",
       "      <td>1.3</td>\n",
       "      <td>0.2</td>\n",
       "      <td>setosa</td>\n",
       "    </tr>\n",
       "    <tr>\n",
       "      <th>3</th>\n",
       "      <td>1.5</td>\n",
       "      <td>0.2</td>\n",
       "      <td>setosa</td>\n",
       "    </tr>\n",
       "    <tr>\n",
       "      <th>4</th>\n",
       "      <td>1.4</td>\n",
       "      <td>0.2</td>\n",
       "      <td>setosa</td>\n",
       "    </tr>\n",
       "  </tbody>\n",
       "</table>\n",
       "</div>"
      ],
      "text/plain": [
       "   petal_length  petal_width species\n",
       "0           1.4          0.2  setosa\n",
       "1           1.4          0.2  setosa\n",
       "2           1.3          0.2  setosa\n",
       "3           1.5          0.2  setosa\n",
       "4           1.4          0.2  setosa"
      ]
     },
     "execution_count": 6,
     "metadata": {},
     "output_type": "execute_result"
    }
   ],
   "source": [
    "df.loc[:,col].head()"
   ]
  },
  {
   "cell_type": "code",
   "execution_count": 7,
   "metadata": {},
   "outputs": [],
   "source": [
    "col=['petal_length','petal_width']\n",
    "X=df.loc[:,col]"
   ]
  },
  {
   "cell_type": "code",
   "execution_count": 8,
   "metadata": {},
   "outputs": [],
   "source": [
    "species_to_num={\n",
    "    'setosa':0,\n",
    "    'versicolor':1,\n",
    "    'virginica':2\n",
    "}\n",
    "df['tmp']=df['species'].map(species_to_num)\n",
    "Y=df['tmp']"
   ]
  },
  {
   "cell_type": "markdown",
   "metadata": {},
   "source": [
    "# LINEAR SVM"
   ]
  },
  {
   "cell_type": "code",
   "execution_count": 9,
   "metadata": {},
   "outputs": [
    {
     "data": {
      "text/plain": [
       "SVC(C=0.001, break_ties=False, cache_size=200, class_weight=None, coef0=0.0,\n",
       "    decision_function_shape='ovr', degree=3, gamma='scale', kernel='linear',\n",
       "    max_iter=-1, probability=False, random_state=None, shrinking=True,\n",
       "    tol=0.001, verbose=False)"
      ]
     },
     "execution_count": 9,
     "metadata": {},
     "output_type": "execute_result"
    }
   ],
   "source": [
    "C=0.001\n",
    "model=svm.SVC(kernel='linear',C=C)\n",
    "model.fit(X,Y)"
   ]
  },
  {
   "cell_type": "code",
   "execution_count": 11,
   "metadata": {},
   "outputs": [
    {
     "data": {
      "text/plain": [
       "array([2], dtype=int64)"
      ]
     },
     "execution_count": 11,
     "metadata": {},
     "output_type": "execute_result"
    }
   ],
   "source": [
    "model.predict([[6,2]])"
   ]
  },
  {
   "cell_type": "code",
   "execution_count": 14,
   "metadata": {},
   "outputs": [],
   "source": [
    "Xv = X.values.reshape(-1,1)\n",
    "h = 0.02\n",
    "x_min, x_max = Xv.min(), Xv.max() + 1\n",
    "Y_min, Y_max = Y.min(), Y.max() + 1\n",
    "xx, yy = np.meshgrid(np.arange(x_min, x_max, h),\n",
    "                     np.arange(Y_min, Y_max, h))"
   ]
  },
  {
   "cell_type": "code",
   "execution_count": 16,
   "metadata": {},
   "outputs": [
    {
     "data": {
      "image/png": "[encoded data removed]",
      "text/plain": [
       "<Figure size 576x432 with 1 Axes>"
      ]
     },
     "metadata": {
      "needs_background": "light"
     },
     "output_type": "display_data"
    }
   ],
   "source": [
    "z = model.predict(np.c_[xx.ravel(), yy.ravel()])\n",
    "z = z.reshape(xx.shape)\n",
    "fig = plt.figure(figsize=(8,6))\n",
    "ax = plt.contourf(xx, yy, z, cmap = 'afmhot', alpha=0.3);\n",
    "plt.scatter(X.values[:, 0], X.values[:, 1], c=Y, s=80, \n",
    "            alpha=0.9, edgecolors='g');"
   ]
  },
  {
   "cell_type": "markdown",
   "metadata": {},
   "source": [
    "# Linear SVM Implementation"
   ]
  },
  {
   "cell_type": "code",
   "execution_count": 19,
   "metadata": {},
   "outputs": [],
   "source": [
    "from sklearn.model_selection import train_test_split\n",
    "X_train,X_test,Y_train,Y_test=train_test_split(X,Y,train_size=0.8,random_state=0)"
   ]
  },
  {
   "cell_type": "markdown",
   "metadata": {},
   "source": [
    "# Scale Features"
   ]
  },
  {
   "cell_type": "code",
   "execution_count": 33,
   "metadata": {},
   "outputs": [
    {
     "data": {
      "text/plain": [
       "SVC(C=1.0, break_ties=False, cache_size=200, class_weight=None, coef0=0.0,\n",
       "    decision_function_shape='ovr', degree=3, gamma='scale', kernel='linear',\n",
       "    max_iter=-1, probability=False, random_state=None, shrinking=True,\n",
       "    tol=0.001, verbose=False)"
      ]
     },
     "execution_count": 33,
     "metadata": {},
     "output_type": "execute_result"
    }
   ],
   "source": [
    "\n",
    "from sklearn.preprocessing import StandardScaler\n",
    "sc=StandardScaler()\n",
    "X_standard_train=sc.fit_transform(X_train)\n",
    "C=1.0\n",
    "model_1=svm.SVC(kernel='linear',C=C)\n",
    "model_1.fit(X_standard_train,Y_train)\n"
   ]
  },
  {
   "cell_type": "code",
   "execution_count": 34,
   "metadata": {
    "collapsed": true,
    "jupyter": {
     "outputs_hidden": true
    }
   },
   "outputs": [
    {
     "data": {
      "text/plain": [
       "array([[ 0.94751783,  0.736072  ],\n",
       "       [ 0.38491447,  0.34752959],\n",
       "       [-1.30289562, -1.33615415],\n",
       "       [ 0.60995581,  0.736072  ],\n",
       "       [ 1.00377816,  1.25412853],\n",
       "       [ 0.04735245,  0.21801546],\n",
       "       [-1.19037495, -1.20664002],\n",
       "       [ 0.72247648,  0.47704373],\n",
       "       [ 0.21613346,  0.34752959],\n",
       "       [ 0.10361279, -0.04101281],\n",
       "       [ 0.94751783,  1.1246144 ],\n",
       "       [-1.41541629, -1.33615415],\n",
       "       [ 0.72247648,  1.38364267],\n",
       "       [-1.24663528, -0.81809761],\n",
       "       [-1.30289562, -1.33615415],\n",
       "       [-0.1776889 , -0.30004108],\n",
       "       [ 0.94751783,  0.736072  ],\n",
       "       [ 1.0600385 ,  1.64267094],\n",
       "       [ 0.66621615,  0.34752959],\n",
       "       [ 1.11629884,  0.736072  ],\n",
       "       [ 0.04735245, -0.17052694],\n",
       "       [ 1.28507985,  1.38364267],\n",
       "       [ 0.49743514,  0.47704373],\n",
       "       [-0.00890789, -0.17052694],\n",
       "       [ 0.60995581,  0.736072  ],\n",
       "       [ 0.72247648,  0.34752959],\n",
       "       [ 0.38491447,  0.60655786],\n",
       "       [ 0.66621615,  0.86558613],\n",
       "       [ 0.49743514,  0.21801546],\n",
       "       [ 0.77873682,  0.99510027],\n",
       "       [ 0.38491447,  0.47704373],\n",
       "       [-1.24663528, -1.33615415],\n",
       "       [ 0.72247648,  0.86558613],\n",
       "       [ 0.21613346,  0.08850133],\n",
       "       [-0.12142856,  0.08850133],\n",
       "       [ 0.10361279,  0.08850133],\n",
       "       [ 0.4411748 ,  0.21801546],\n",
       "       [ 1.22881951,  0.736072  ],\n",
       "       [-1.30289562, -1.33615415],\n",
       "       [-1.52793696, -1.46566829],\n",
       "       [ 0.83499716,  0.86558613],\n",
       "       [ 0.21613346, -0.04101281],\n",
       "       [-1.19037495, -1.33615415],\n",
       "       [-1.30289562, -1.07712588],\n",
       "       [ 0.60995581,  0.34752959],\n",
       "       [-1.30289562, -1.33615415],\n",
       "       [ 0.72247648,  0.736072  ],\n",
       "       [-0.45899058, -0.17052694],\n",
       "       [-1.35915595, -1.20664002],\n",
       "       [ 0.38491447,  0.34752959],\n",
       "       [ 1.28507985,  1.64267094],\n",
       "       [ 0.21613346,  0.08850133],\n",
       "       [-1.35915595, -1.46566829],\n",
       "       [ 1.17255917,  1.1246144 ],\n",
       "       [ 1.0600385 ,  1.38364267],\n",
       "       [ 1.11629884,  1.25412853],\n",
       "       [ 1.00377816,  1.1246144 ],\n",
       "       [-1.24663528, -1.33615415],\n",
       "       [-1.24663528, -1.33615415],\n",
       "       [ 0.72247648,  0.99510027],\n",
       "       [ 1.0600385 ,  1.1246144 ],\n",
       "       [-1.41541629, -1.20664002],\n",
       "       [ 0.89125749,  1.38364267],\n",
       "       [-1.35915595, -1.33615415],\n",
       "       [ 0.66621615,  0.99510027],\n",
       "       [ 0.89125749,  1.1246144 ],\n",
       "       [-1.41541629, -1.33615415],\n",
       "       [-1.35915595, -1.33615415],\n",
       "       [ 1.11629884,  0.47704373],\n",
       "       [-1.35915595, -1.20664002],\n",
       "       [-1.41541629, -1.33615415],\n",
       "       [-1.19037495, -1.07712588],\n",
       "       [ 0.10361279,  0.08850133],\n",
       "       [ 1.17255917,  1.38364267],\n",
       "       [ 1.56638153,  1.1246144 ],\n",
       "       [-1.35915595, -1.33615415],\n",
       "       [-1.30289562, -1.33615415],\n",
       "       [-1.35915595, -1.33615415],\n",
       "       [ 0.38491447,  0.08850133],\n",
       "       [ 0.32865413,  0.21801546],\n",
       "       [-1.47167663, -1.33615415],\n",
       "       [-1.19037495, -0.94761175],\n",
       "       [ 0.27239379,  0.08850133],\n",
       "       [-1.30289562, -1.07712588],\n",
       "       [ 1.73516253,  1.38364267],\n",
       "       [-0.29020957, -0.30004108],\n",
       "       [ 1.45386085,  0.99510027],\n",
       "       [ 0.32865413,  0.21801546],\n",
       "       [-1.30289562, -1.46566829],\n",
       "       [ 0.55369548,  0.736072  ],\n",
       "       [-1.47167663, -1.33615415],\n",
       "       [ 1.62264186,  0.99510027],\n",
       "       [-1.30289562, -1.20664002],\n",
       "       [-1.24663528, -1.33615415],\n",
       "       [ 1.28507985,  0.86558613],\n",
       "       [-1.35915595, -1.33615415],\n",
       "       [ 1.00377816,  1.5131568 ],\n",
       "       [ 0.15987312,  0.08850133],\n",
       "       [ 0.04735245, -0.04101281],\n",
       "       [-0.1776889 , -0.30004108],\n",
       "       [ 0.83499716,  1.38364267],\n",
       "       [ 0.77873682,  1.38364267],\n",
       "       [ 0.60995581,  0.34752959],\n",
       "       [ 0.66621615,  0.60655786],\n",
       "       [-1.24663528, -1.33615415],\n",
       "       [-0.06516822, -0.30004108],\n",
       "       [ 1.00377816,  1.5131568 ],\n",
       "       [ 0.72247648,  0.86558613],\n",
       "       [-1.30289562, -1.33615415],\n",
       "       [ 0.4411748 ,  0.08850133],\n",
       "       [ 0.15987312,  0.08850133],\n",
       "       [ 0.55369548,  0.736072  ],\n",
       "       [ 0.32865413,  0.08850133],\n",
       "       [-1.41541629, -1.33615415],\n",
       "       [-1.30289562, -1.07712588],\n",
       "       [-1.30289562, -1.46566829],\n",
       "       [ 1.00377816,  0.736072  ],\n",
       "       [ 0.15987312, -0.30004108],\n",
       "       [ 1.62264186,  1.25412853],\n",
       "       [-1.35915595, -1.33615415]])"
      ]
     },
     "execution_count": 34,
     "metadata": {},
     "output_type": "execute_result"
    }
   ],
   "source": [
    "X_standard_train"
   ]
  },
  {
   "cell_type": "markdown",
   "metadata": {},
   "source": [
    "# Accuracy "
   ]
  },
  {
   "cell_type": "code",
   "execution_count": 35,
   "metadata": {},
   "outputs": [],
   "source": [
    "from sklearn.model_selection import cross_val_score\n",
    "from sklearn.model_selection import cross_val_predict\n",
    "from sklearn.metrics import confusion_matrix\n",
    "from sklearn.metrics import precision_score, recall_score, f1_score"
   ]
  },
  {
   "cell_type": "code",
   "execution_count": 36,
   "metadata": {},
   "outputs": [],
   "source": [
    "score=cross_val_score(model,X_standard_train,Y_train,cv=10,scoring='accuracy')"
   ]
  },
  {
   "cell_type": "code",
   "execution_count": 37,
   "metadata": {},
   "outputs": [
    {
     "data": {
      "text/plain": [
       "array([0.41666667, 0.41666667, 0.41666667, 0.41666667, 0.33333333,\n",
       "       0.33333333, 0.33333333, 0.33333333, 0.33333333, 0.33333333])"
      ]
     },
     "execution_count": 37,
     "metadata": {},
     "output_type": "execute_result"
    }
   ],
   "source": [
    "score"
   ]
  },
  {
   "cell_type": "code",
   "execution_count": 38,
   "metadata": {},
   "outputs": [
    {
     "name": "stdout",
     "output_type": "stream",
     "text": [
      "Average Accuracy:0.3667\n",
      "Standard Deviation:0.0408\n"
     ]
    }
   ],
   "source": [
    "print('Average Accuracy:{:,.4f}'.format(np.mean(score)))\n",
    "print('Standard Deviation:{:,.4f}'.format(np.std(score)))"
   ]
  },
  {
   "cell_type": "code",
   "execution_count": 44,
   "metadata": {},
   "outputs": [],
   "source": [
    "Y_train_pred=cross_val_predict(model,X_standard_train,Y_train,cv=3)"
   ]
  },
  {
   "cell_type": "code",
   "execution_count": 45,
   "metadata": {},
   "outputs": [
    {
     "data": {
      "text/plain": [
       "array([[ 0,  0, 39],\n",
       "       [ 0,  0, 37],\n",
       "       [ 0,  0, 44]], dtype=int64)"
      ]
     },
     "execution_count": 45,
     "metadata": {},
     "output_type": "execute_result"
    }
   ],
   "source": [
    "from sklearn.metrics import confusion_matrix\n",
    "confusion_matrix(Y_train,Y_train_pred)"
   ]
  },
  {
   "cell_type": "code",
   "execution_count": 46,
   "metadata": {},
   "outputs": [
    {
     "name": "stdout",
     "output_type": "stream",
     "text": [
      "Precision Score: \t 0.1344\n",
      "Recall Score: \t\t 0.3667\n",
      "F1 Score: \t\t 0.1967\n"
     ]
    },
    {
     "name": "stderr",
     "output_type": "stream",
     "text": [
      "C:\\Users\\SANDY\\Anaconda3\\envs\\ml_2020\\lib\\site-packages\\sklearn\\metrics\\_classification.py:1268: UndefinedMetricWarning: Precision is ill-defined and being set to 0.0 in labels with no predicted samples. Use `zero_division` parameter to control this behavior.\n",
      "  _warn_prf(average, modifier, msg_start, len(result))\n"
     ]
    }
   ],
   "source": [
    "print(\"Precision Score: \\t {0:.4f}\".format(precision_score(Y_train, \n",
    "                                                           Y_train_pred, \n",
    "                                                           average='weighted')))\n",
    "print(\"Recall Score: \\t\\t {0:.4f}\".format(recall_score(Y_train,\n",
    "                                                     Y_train_pred, \n",
    "                                                     average='weighted')))\n",
    "print(\"F1 Score: \\t\\t {0:.4f}\".format(f1_score(Y_train,\n",
    "                                             Y_train_pred, \n",
    "                                             average='weighted')))"
   ]
  },
  {
   "cell_type": "markdown",
   "metadata": {},
   "source": [
    "# with test"
   ]
  },
  {
   "cell_type": "code",
   "execution_count": null,
   "metadata": {},
   "outputs": [],
   "source": []
  }
 ],
 "metadata": {
  "kernelspec": {
   "display_name": "Python 3",
   "language": "python",
   "name": "python3"
  },
  "language_info": {
   "codemirror_mode": {
    "name": "ipython",
    "version": 3
   },
   "file_extension": ".py",
   "mimetype": "text/x-python",
   "name": "python",
   "nbconvert_exporter": "python",
   "pygments_lexer": "ipython3",
   "version": "3.7.5"
  }
 },
 "nbformat": 4,
 "nbformat_minor": 4
}
